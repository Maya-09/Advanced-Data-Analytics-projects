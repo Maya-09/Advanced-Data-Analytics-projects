{
 "cells": [
  {
   "cell_type": "markdown",
   "id": "69ac2ff3",
   "metadata": {},
   "source": [
    "# Q9c"
   ]
  },
  {
   "cell_type": "code",
   "execution_count": 116,
   "id": "355caa58",
   "metadata": {},
   "outputs": [],
   "source": [
    "\n",
    "## The normaised pdf of x : p(x) = (4/625)x^3 , 0<x<5\n",
    "## \n",
    "## The CDF corresponding to this pdf is P(x) = x^4/625\n",
    "## \n",
    "## If  y = P(x) then inverting this CDF gives x = 5y^(1/4)\n",
    "## So to generate a random sample from pdf p(x) we need to first generate\n",
    "## a random sample of y values from U[0,1], and then compute x = 5y^(1/4)\n",
    "## The set of x values are then a random sample from p(x).\n",
    "##\n",
    "\n",
    "import numpy as np     #importing numpy to store and manipulate data as arrays\n",
    "import matplotlib.pyplot as plt  #importing module for ploting data\n",
    "\n",
    "n = 1000   #set sample size to 1000\n",
    "y = np.random.uniform(low = 0, high = 1, size = n)    # Generate 1000 random numbers between 0 and 1 and store in array \n",
    "## Invert to get sample from pdf\n",
    "x = 5*y**0.25  # x is now a random number drawn from the pdf\n"
   ]
  },
  {
   "cell_type": "markdown",
   "id": "8c3f086f",
   "metadata": {},
   "source": [
    "# Q9d"
   ]
  },
  {
   "cell_type": "code",
   "execution_count": 117,
   "id": "3af2740b",
   "metadata": {},
   "outputs": [
    {
     "data": {
      "text/plain": [
       "4.0005051745133695"
      ]
     },
     "execution_count": 117,
     "metadata": {},
     "output_type": "execute_result"
    }
   ],
   "source": [
    "obsm = np.mean(x)   #compute the sample mean\n",
    "obsm"
   ]
  },
  {
   "cell_type": "code",
   "execution_count": 118,
   "id": "a0ccaec4",
   "metadata": {},
   "outputs": [
    {
     "data": {
      "text/plain": [
       "0.6626622466773995"
      ]
     },
     "execution_count": 118,
     "metadata": {},
     "output_type": "execute_result"
    }
   ],
   "source": [
    "var = np.var(x)  #compute the sample variance\n",
    "var"
   ]
  },
  {
   "cell_type": "markdown",
   "id": "38101bb8",
   "metadata": {},
   "source": [
    "# Q9e"
   ]
  },
  {
   "cell_type": "code",
   "execution_count": 133,
   "id": "5046d919",
   "metadata": {},
   "outputs": [
    {
     "data": {
      "image/png": "[encoded data removed]",
      "text/plain": [
       "<Figure size 432x288 with 1 Axes>"
      ]
     },
     "metadata": {
      "needs_background": "light"
     },
     "output_type": "display_data"
    }
   ],
   "source": [
    "%matplotlib inline  \n",
    "nbins = 10  #set number of bins\n",
    "plt.xlabel('x value')   #label x-axis\n",
    "plt.ylabel('number of samples')  #label y-axis\n",
    "plt.title('Histogram of sample from cubic pdf')  #set plot title\n",
    "plt.hist(x,bins=nbins )   #plot histogram for random sample\n",
    "plt.show()"
   ]
  },
  {
   "cell_type": "code",
   "execution_count": 134,
   "id": "17e86521",
   "metadata": {},
   "outputs": [
    {
     "data": {
      "image/png": "[encoded data removed]",
      "text/plain": [
       "<Figure size 432x288 with 1 Axes>"
      ]
     },
     "metadata": {
      "needs_background": "light"
     },
     "output_type": "display_data"
    }
   ],
   "source": [
    "\n",
    "plt.xlabel('x value')   #label x-axis\n",
    "plt.ylabel('number of samples')  #label y-axis\n",
    "plt.title('Histogram and pdf of sample ')  #set plot title\n",
    "plt.hist(x,bins=nbins, density = True)   #plot histogram for random sample\n",
    "counts1, bins1 = np.histogram(x, nbins, density = True) #extract the counts and x-values(bins) from the histogram\n",
    "x1 = 0.5*(bins1[1:] + bins1[:-1])   #set x-valuesto bin edge values\n",
    "y1 = (4/625)*x1**3   #compute the predicted count for each bin value(x-value) using the pdf\n",
    "plt.plot(x1, y1)  #plot the predicted number of sample values\n",
    "plt.legend([\"pdf\", \"Histogram\"])\n",
    "plt.show() #show the plot"
   ]
  },
  {
   "cell_type": "code",
   "execution_count": 135,
   "id": "85602d76",
   "metadata": {},
   "outputs": [
    {
     "name": "stdout",
     "output_type": "stream",
     "text": [
      "0.006722106260294099\n"
     ]
    }
   ],
   "source": [
    "npred = y1 #set the predicted counts to equal the extracted histogram values\n",
    "nobs = counts1 #set the observed counts to equal the extracted histogram values\n",
    "chi_sq = 0  #set chi_sq to zero\n",
    "\n",
    "# set loop to compute chi-square iteratively using the observed and predicted value counts\n",
    "for i in range(nbins):\n",
    "    chi_sq += ((nobs[i] - npred[i])**2)/npred[i]  # define formula for chi square as given in lecture 9.\n",
    "print(chi_sq)  #print chi-square"
   ]
  },
  {
   "cell_type": "code",
   "execution_count": 122,
   "id": "162170be",
   "metadata": {},
   "outputs": [],
   "source": [
    "p_value = 1.000\n",
    "#where the deg of freedom =  nbins - 1"
   ]
  },
  {
   "cell_type": "markdown",
   "id": "71702bab",
   "metadata": {},
   "source": [
    "x1"
   ]
  },
  {
   "cell_type": "code",
   "execution_count": null,
   "id": "b09d894f",
   "metadata": {},
   "outputs": [],
   "source": []
  },
  {
   "cell_type": "code",
   "execution_count": null,
   "id": "816ea41d",
   "metadata": {},
   "outputs": [],
   "source": []
  }
 ],
 "metadata": {
  "kernelspec": {
   "display_name": "Python 3 (ipykernel)",
   "language": "python",
   "name": "python3"
  },
  "language_info": {
   "codemirror_mode": {
    "name": "ipython",
    "version": 3
   },
   "file_extension": ".py",
   "mimetype": "text/x-python",
   "name": "python",
   "nbconvert_exporter": "python",
   "pygments_lexer": "ipython3",
   "version": "3.9.7"
  }
 },
 "nbformat": 4,
 "nbformat_minor": 5
}
