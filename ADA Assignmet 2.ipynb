{
 "cells": [
  {
   "cell_type": "markdown",
   "id": "3784f7e9",
   "metadata": {},
   "source": [
    "# Q4a"
   ]
  },
  {
   "cell_type": "code",
   "execution_count": 20,
   "id": "9d3064ad",
   "metadata": {},
   "outputs": [],
   "source": [
    "import numpy as np  #import numpy module for array manipulations\n",
    "import matplotlib.pyplot as plt"
   ]
  },
  {
   "cell_type": "code",
   "execution_count": 21,
   "id": "d4b02b79",
   "metadata": {},
   "outputs": [],
   "source": [
    "n = 10  #set the number of date points\n",
    "x = np.array([26.9, 21.2, 25.9, 21.8, 24.1, 24.9, 28.7, 23.8, 22.9, 28.2])  #array containing x-values\n",
    "y = np.array([209, 189, 201, 197, 202, 207, 214, 196, 192, 208])             #array containing y-values"
   ]
  },
  {
   "cell_type": "code",
   "execution_count": 22,
   "id": "c18adaa2",
   "metadata": {},
   "outputs": [],
   "source": [
    "a_ls = ((np.sum(y)*np.sum(x**2))-(np.sum(x*y)*np.sum(x)))/(n*np.sum(x**2)-np.sum(x)**2)    #formula to calculate parameter estimate for a"
   ]
  },
  {
   "cell_type": "code",
   "execution_count": 23,
   "id": "4840037f",
   "metadata": {},
   "outputs": [
    {
     "data": {
      "text/plain": [
       "131.1720947446339"
      ]
     },
     "execution_count": 23,
     "metadata": {},
     "output_type": "execute_result"
    }
   ],
   "source": [
    "a_ls #print the parameter estimate of a"
   ]
  },
  {
   "cell_type": "code",
   "execution_count": 24,
   "id": "794e5eed",
   "metadata": {},
   "outputs": [],
   "source": [
    "b_ls = (n*np.sum(x*y)-(np.sum(x)*np.sum(y)))/(n*np.sum(x**2)-np.sum(x)**2)  #formula to calculate parameter estimate for b"
   ]
  },
  {
   "cell_type": "code",
   "execution_count": 25,
   "id": "53334b20",
   "metadata": {
    "scrolled": true
   },
   "outputs": [
    {
     "data": {
      "text/plain": [
       "2.8312361213916546"
      ]
     },
     "execution_count": 25,
     "metadata": {},
     "output_type": "execute_result"
    }
   ],
   "source": [
    "b_ls  #print the parameter estimate of b"
   ]
  },
  {
   "cell_type": "code",
   "execution_count": 27,
   "id": "fe20ca5c",
   "metadata": {},
   "outputs": [],
   "source": [
    "#plt.plot(x, y)"
   ]
  },
  {
   "cell_type": "code",
   "execution_count": 28,
   "id": "bc25ada0",
   "metadata": {},
   "outputs": [
    {
     "data": {
      "text/plain": [
       "array([ 1.66765359, -2.19430052, -3.50111029,  4.10695781,  2.59511473,\n",
       "        5.33012583,  1.57142857, -2.55551443, -4.00740192, -3.01295337])"
      ]
     },
     "execution_count": 28,
     "metadata": {},
     "output_type": "execute_result"
    }
   ],
   "source": [
    "y1 = a_ls + (b_ls*x)\n",
    "e = y-y1\n",
    "e"
   ]
  },
  {
   "cell_type": "code",
   "execution_count": 29,
   "id": "502bbd58",
   "metadata": {},
   "outputs": [
    {
     "data": {
      "text/plain": [
       "3.255809588563189"
      ]
     },
     "execution_count": 29,
     "metadata": {},
     "output_type": "execute_result"
    }
   ],
   "source": [
    "sigma = np.sqrt(np.var(e))\n",
    "sigma"
   ]
  },
  {
   "cell_type": "markdown",
   "id": "c86886d2",
   "metadata": {},
   "source": [
    "# Q4b"
   ]
  },
  {
   "cell_type": "code",
   "execution_count": 99,
   "id": "fe19ac66",
   "metadata": {},
   "outputs": [],
   "source": [
    "sigma = 1.2   #set value for standard deviation of error pdf"
   ]
  },
  {
   "cell_type": "code",
   "execution_count": 30,
   "id": "4223a546",
   "metadata": {},
   "outputs": [],
   "source": [
    "var_als = sigma**2*np.sum(x**2)/(n*np.sum(x**2)-np.sum(x)**2)  #formula to calculate variance of estimate of a"
   ]
  },
  {
   "cell_type": "code",
   "execution_count": 101,
   "id": "24f09749",
   "metadata": {},
   "outputs": [
    {
     "data": {
      "text/plain": [
       "15.091124419622322"
      ]
     },
     "execution_count": 101,
     "metadata": {},
     "output_type": "execute_result"
    }
   ],
   "source": [
    "var_als #print variance of estimate of a"
   ]
  },
  {
   "cell_type": "code",
   "execution_count": 102,
   "id": "44b3a087",
   "metadata": {},
   "outputs": [
    {
     "data": {
      "text/plain": [
       "3.884729645628164"
      ]
     },
     "execution_count": 102,
     "metadata": {},
     "output_type": "execute_result"
    }
   ],
   "source": [
    "sigma_a = np.sqrt(var_als)  #calculate error in a from variance \n",
    "sigma_a  #print result of the error"
   ]
  },
  {
   "cell_type": "code",
   "execution_count": 103,
   "id": "f25126eb",
   "metadata": {},
   "outputs": [
    {
     "data": {
      "text/plain": [
       "0.024224480183030198"
      ]
     },
     "execution_count": 103,
     "metadata": {},
     "output_type": "execute_result"
    }
   ],
   "source": [
    "var_bls = n*sigma**2/(n*np.sum(x**2)-np.sum(x)**2) #formula to calculate variance of estimate of b\n",
    "var_bls #print variance of estimate of b"
   ]
  },
  {
   "cell_type": "code",
   "execution_count": 104,
   "id": "24b568cc",
   "metadata": {},
   "outputs": [
    {
     "data": {
      "text/plain": [
       "0.15564215426108122"
      ]
     },
     "execution_count": 104,
     "metadata": {},
     "output_type": "execute_result"
    }
   ],
   "source": [
    "sigma_b = np.sqrt(var_bls)   #calculate error in a from variance \n",
    "sigma_b    #print result of the error"
   ]
  },
  {
   "cell_type": "code",
   "execution_count": 105,
   "id": "a7ae419a",
   "metadata": {},
   "outputs": [],
   "source": [
    "cov = -sigma**2*np.sum(x)/(n*np.sum(x**2)-np.sum(x)**2)  #define covariance formula"
   ]
  },
  {
   "cell_type": "code",
   "execution_count": 106,
   "id": "ee99bd6a",
   "metadata": {},
   "outputs": [
    {
     "data": {
      "text/plain": [
       "-0.6017360877464701"
      ]
     },
     "execution_count": 106,
     "metadata": {},
     "output_type": "execute_result"
    }
   ],
   "source": [
    "cov"
   ]
  },
  {
   "cell_type": "markdown",
   "id": "c378d42b",
   "metadata": {},
   "source": [
    "# Q4c"
   ]
  },
  {
   "cell_type": "code",
   "execution_count": 107,
   "id": "a5316bd0",
   "metadata": {},
   "outputs": [],
   "source": [
    "chi_squared = np.sum(((y-(a_ls+b_ls*x))/sigma)**2) #formula for calculating chi_square for the given model\n"
   ]
  },
  {
   "cell_type": "code",
   "execution_count": 108,
   "id": "72f20ee2",
   "metadata": {},
   "outputs": [
    {
     "data": {
      "text/plain": [
       "73.61316720125002"
      ]
     },
     "execution_count": 108,
     "metadata": {},
     "output_type": "execute_result"
    }
   ],
   "source": [
    "chi_squared #print chi_square"
   ]
  },
  {
   "cell_type": "code",
   "execution_count": null,
   "id": "a61b1805",
   "metadata": {},
   "outputs": [],
   "source": [
    "p_value = 0.000  #from the online calculator"
   ]
  },
  {
   "cell_type": "code",
   "execution_count": null,
   "id": "9cbb848e",
   "metadata": {},
   "outputs": [],
   "source": []
  }
 ],
 "metadata": {
  "kernelspec": {
   "display_name": "Python 3",
   "language": "python",
   "name": "python3"
  },
  "language_info": {
   "codemirror_mode": {
    "name": "ipython",
    "version": 3
   },
   "file_extension": ".py",
   "mimetype": "text/x-python",
   "name": "python",
   "nbconvert_exporter": "python",
   "pygments_lexer": "ipython3",
   "version": "3.8.8"
  }
 },
 "nbformat": 4,
 "nbformat_minor": 5
}
